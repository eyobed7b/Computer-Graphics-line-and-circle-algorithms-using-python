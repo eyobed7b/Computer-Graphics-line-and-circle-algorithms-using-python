{
 "metadata": {
  "language_info": {
   "codemirror_mode": {
    "name": "ipython",
    "version": 3
   },
   "file_extension": ".py",
   "mimetype": "text/x-python",
   "name": "python",
   "nbconvert_exporter": "python",
   "pygments_lexer": "ipython3",
   "version": 3
  },
  "orig_nbformat": 2
 },
 "nbformat": 4,
 "nbformat_minor": 2,
 "cells": [
  {
   "cell_type": "code",
   "execution_count": null,
   "metadata": {},
   "outputs": [],
   "source": [
    "import PIL.Image, PIL.ImageDraw\n",
    "\n",
    "def circle(radius):\n",
    "    \"Bresenham complete circle algorithm CG assignment section B group 3\"\n",
    "    # init vars\n",
    "    p = 3 - (2 * radius)\n",
    "    points = set()\n",
    "    x = 0\n",
    "    y = radius\n",
    "    # first quarter/octant starts clockwise at 12 o'clock\n",
    "    while x <= y:\n",
    "        # first quarter first octant\n",
    "        points.add((x,-y))\n",
    "        # first quarter 2nd octant\n",
    "        points.add((y,-x))\n",
    "        # second quarter 3rd octanta\n",
    "        points.add((y,x))\n",
    "        # second quarter 4.octant\n",
    "        points.add((x,y))\n",
    "        # third quarter 5.octant\n",
    "        points.add((-x,y))        \n",
    "        # third quarter 6.octant\n",
    "        points.add((-y,x))\n",
    "        # fourth quarter 7.octant\n",
    "        points.add((-y,-x))\n",
    "        # fourth quarter 8.octant\n",
    "        points.add((-x,-y))\n",
    "        if p < 0:  \n",
    "            p = p + (4 * x) + 6\n",
    "        else:\n",
    "            p = p + (4 * (x - y)) + 10\n",
    "            y = y - 1\n",
    "        x = x + 1\n",
    "    return points\n",
    "\n",
    "size = 200\n",
    "radius = 60\n",
    "circle_graph = PIL.Image.new(\"RGB\", (size, size), (0,0,0))\n",
    "draw = PIL.ImageDraw.Draw(circle_graph)\n",
    "p = circle(radius)\n",
    "# print the point coords\n",
    "\n",
    "for point in p:\n",
    "    draw.point((size/2+point[0],size/2+point[1]),(255,255,255))\n",
    "circle_graph.show()"
   ]
  }
 ]
}